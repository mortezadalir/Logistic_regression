{
 "cells": [
  {
   "cell_type": "code",
   "execution_count": 2,
   "id": "fca49b49",
   "metadata": {},
   "outputs": [],
   "source": [
    "import numpy as np\n",
    "import pandas as pd\n",
    "import matplotlib.pyplot as plt"
   ]
  },
  {
   "cell_type": "code",
   "execution_count": 3,
   "id": "6bd74057",
   "metadata": {},
   "outputs": [],
   "source": [
    "data=pd.read_csv(\"data.csv\")\n",
    "data.drop(['id','Unnamed: 32'],axis=1, inplace=True)"
   ]
  },
  {
   "cell_type": "code",
   "execution_count": 4,
   "id": "ba952676",
   "metadata": {},
   "outputs": [],
   "source": [
    "my_data=data.loc[:,'diagnosis':'texture_mean']\n",
    "\n"
   ]
  },
  {
   "cell_type": "code",
   "execution_count": 5,
   "id": "996c922b",
   "metadata": {},
   "outputs": [],
   "source": [
    "label=[]\n",
    "y=np.array([])\n",
    "for i in range(len(my_data)):\n",
    "    if my_data.loc[i,'diagnosis']==\"M\":\n",
    "        label.append(\"red\")\n",
    "        y=np.append(y,1)\n",
    "    else:\n",
    "        label.append(\"blue\")\n",
    "        y=np.append(y,0)\n",
    "\n"
   ]
  },
  {
   "cell_type": "code",
   "execution_count": 6,
   "id": "4b066dea",
   "metadata": {},
   "outputs": [
    {
     "data": {
      "image/png": "[encoded data removed]",
      "text/plain": [
       "<Figure size 432x288 with 1 Axes>"
      ]
     },
     "metadata": {
      "needs_background": "light"
     },
     "output_type": "display_data"
    }
   ],
   "source": [
    "plt.scatter(my_data['radius_mean'],my_data['texture_mean'],c=label,s=2)\n",
    "plt.show()"
   ]
  },
  {
   "cell_type": "code",
   "execution_count": 7,
   "id": "723a7fdc",
   "metadata": {},
   "outputs": [],
   "source": [
    "import math\n",
    "def sigmoid(z):\n",
    "    sig=1/(1+math.exp(-z))\n",
    "    return sig"
   ]
  },
  {
   "cell_type": "code",
   "execution_count": 8,
   "id": "ae3ddf3c",
   "metadata": {},
   "outputs": [
    {
     "data": {
      "text/plain": [
       "0.0"
      ]
     },
     "execution_count": 8,
     "metadata": {},
     "output_type": "execute_result"
    }
   ],
   "source": [
    "teta=np.array([.1,.1,.1])\n",
    "\n",
    "y[102]"
   ]
  },
  {
   "cell_type": "code",
   "execution_count": 9,
   "id": "fe0e0fa9",
   "metadata": {},
   "outputs": [
    {
     "data": {
      "text/plain": [
       "2.9370000000000003"
      ]
     },
     "execution_count": 9,
     "metadata": {},
     "output_type": "execute_result"
    }
   ],
   "source": [
    "x=my_data.loc[0:99,'radius_mean':'texture_mean'].values\n",
    "\n",
    "x=np.concatenate((np.ones((100,1)),x),axis=1)\n",
    "np.matmul(teta.T,x[0])\n"
   ]
  },
  {
   "cell_type": "code",
   "execution_count": 10,
   "id": "52aad0d1",
   "metadata": {},
   "outputs": [],
   "source": [
    "def cost(x,y,teta):\n",
    "    m=len(y)\n",
    "    cost_value=0\n",
    "    for i in range(m):\n",
    "        h_teta=sigmoid(np.matmul(teta.T,x[i]))\n",
    "        cost_iter=y[i]*(np.log(h_teta))+(1-y[i])*((np.log(1-h_teta)))\n",
    "        cost_value=cost_value+ cost_iter\n",
    "    return (-1/m)*cost_value"
   ]
  },
  {
   "cell_type": "code",
   "execution_count": 11,
   "id": "4fec64e6",
   "metadata": {},
   "outputs": [
    {
     "data": {
      "text/plain": [
       "1.0804582400877487"
      ]
     },
     "execution_count": 11,
     "metadata": {},
     "output_type": "execute_result"
    }
   ],
   "source": [
    "cost(x,y[0:100],teta)\n"
   ]
  },
  {
   "cell_type": "code",
   "execution_count": 12,
   "id": "d310fa75",
   "metadata": {},
   "outputs": [],
   "source": [
    "def calculate_weight1(x,y,teta,rate):\n",
    "    \n",
    "    m=len(y)\n",
    "    \n",
    "    sum_error1=np.zeros((1,3))\n",
    "   \n",
    "    for i in range(m):\n",
    "        h_teta=sigmoid(np.matmul(teta.T,x[i]))\n",
    "        sum_error1=sum_error1+((h_teta-y[i])*x[i])\n",
    "    return teta-rate*sum_error1\n"
   ]
  },
  {
   "cell_type": "code",
   "execution_count": 13,
   "id": "09c21a8a",
   "metadata": {},
   "outputs": [],
   "source": [
    "def calculate_weight(x,y,teta,rate):\n",
    "    \n",
    "    m=len(y)\n",
    "    \n",
    "    sum_error1=np.zeros((1,3))\n",
    "   \n",
    "    for i in range(m):\n",
    "        \n",
    "        h_teta=sigmoid(np.matmul(teta.T,x[i]))\n",
    "        \n",
    "        sum_error1=sum_error1+((h_teta-y[i])*x[i])\n",
    "    return teta-rate*sum_error1[0]"
   ]
  },
  {
   "cell_type": "code",
   "execution_count": 14,
   "id": "5759a741",
   "metadata": {},
   "outputs": [],
   "source": [
    "teta=calculate_weight(x,y[0:100],teta,rate=0.001)\n"
   ]
  },
  {
   "cell_type": "code",
   "execution_count": 15,
   "id": "6530c937",
   "metadata": {},
   "outputs": [
    {
     "data": {
      "text/plain": [
       "(100, 3)"
      ]
     },
     "execution_count": 15,
     "metadata": {},
     "output_type": "execute_result"
    }
   ],
   "source": [
    "x.shape"
   ]
  },
  {
   "cell_type": "code",
   "execution_count": 16,
   "id": "25894a5a",
   "metadata": {},
   "outputs": [],
   "source": [
    "for i in range(10000):\n",
    "    teta=calculate_weight(x,y[0:100],teta,rate=0.001)\n",
    "    #cost(x,y[0:100],teta[0])"
   ]
  },
  {
   "cell_type": "code",
   "execution_count": 17,
   "id": "67dd41bd",
   "metadata": {},
   "outputs": [
    {
     "data": {
      "text/plain": [
       "0.4289929487208388"
      ]
     },
     "execution_count": 17,
     "metadata": {},
     "output_type": "execute_result"
    }
   ],
   "source": [
    "cost(x,y[0:100],teta)"
   ]
  },
  {
   "cell_type": "code",
   "execution_count": 18,
   "id": "3f882559",
   "metadata": {},
   "outputs": [
    {
     "data": {
      "text/plain": [
       "2.648907103825137"
      ]
     },
     "execution_count": 18,
     "metadata": {},
     "output_type": "execute_result"
    }
   ],
   "source": [
    "1.939/.732\n",
    "\n",
    "    "
   ]
  },
  {
   "cell_type": "code",
   "execution_count": 19,
   "id": "ad204e6f",
   "metadata": {},
   "outputs": [],
   "source": [
    "def my_plot(teta):\n",
    "    x=np.linspace(10,20,300)\n",
    "    y=(-teta[0]/teta[2])+(-teta[1]/teta[2])*x\n",
    "    plt.plot(x,y)"
   ]
  },
  {
   "cell_type": "code",
   "execution_count": 20,
   "id": "ae174598",
   "metadata": {},
   "outputs": [
    {
     "data": {
      "text/plain": [
       "<matplotlib.collections.PathCollection at 0x21eed14390>"
      ]
     },
     "execution_count": 20,
     "metadata": {},
     "output_type": "execute_result"
    },
    {
     "data": {
      "image/png": "[encoded data removed]",
      "text/plain": [
       "<Figure size 432x288 with 1 Axes>"
      ]
     },
     "metadata": {
      "needs_background": "light"
     },
     "output_type": "display_data"
    }
   ],
   "source": [
    "my_plot(teta)\n",
    "\n",
    "plt.scatter(my_data['radius_mean'],my_data['texture_mean'],c=label,s=5)"
   ]
  },
  {
   "cell_type": "code",
   "execution_count": null,
   "id": "c59dc523",
   "metadata": {},
   "outputs": [],
   "source": [
    "\n"
   ]
  },
  {
   "cell_type": "code",
   "execution_count": null,
   "id": "271daf23",
   "metadata": {},
   "outputs": [],
   "source": []
  },
  {
   "cell_type": "code",
   "execution_count": null,
   "id": "46fb8416",
   "metadata": {},
   "outputs": [],
   "source": []
  },
  {
   "cell_type": "code",
   "execution_count": null,
   "id": "e1f47328",
   "metadata": {},
   "outputs": [],
   "source": []
  }
 ],
 "metadata": {
  "kernelspec": {
   "display_name": "Python 3",
   "language": "python",
   "name": "python3"
  },
  "language_info": {
   "codemirror_mode": {
    "name": "ipython",
    "version": 3
   },
   "file_extension": ".py",
   "mimetype": "text/x-python",
   "name": "python",
   "nbconvert_exporter": "python",
   "pygments_lexer": "ipython3",
   "version": "3.5.1"
  }
 },
 "nbformat": 4,
 "nbformat_minor": 5
}
