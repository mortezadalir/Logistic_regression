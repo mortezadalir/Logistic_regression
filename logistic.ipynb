{
 "cells": [
  {
   "cell_type": "code",
   "execution_count": 95,
   "id": "ac02c23f",
   "metadata": {},
   "outputs": [],
   "source": [
    "import numpy as np\n",
    "import pandas as pd\n",
    "import matplotlib.pyplot as plt"
   ]
  },
  {
   "cell_type": "code",
   "execution_count": 96,
   "id": "2e8401de",
   "metadata": {},
   "outputs": [],
   "source": [
    "data=pd.read_csv(\"data.csv\")\n",
    "data.drop(['id','Unnamed: 32'],axis=1, inplace=True)"
   ]
  },
  {
   "cell_type": "code",
   "execution_count": 97,
   "id": "b03d003e",
   "metadata": {},
   "outputs": [],
   "source": [
    "my_data=data.loc[:,'diagnosis':'texture_mean']\n",
    "\n"
   ]
  },
  {
   "cell_type": "code",
   "execution_count": 98,
   "id": "406cc0db",
   "metadata": {},
   "outputs": [],
   "source": [
    "label=[]\n",
    "y=np.array([])\n",
    "for i in range(len(my_data)):\n",
    "    if my_data.loc[i,'diagnosis']==\"M\":\n",
    "        label.append(\"red\")\n",
    "        y=np.append(y,1)\n",
    "    else:\n",
    "        label.append(\"blue\")\n",
    "        y=np.append(y,0)\n",
    "\n"
   ]
  },
  {
   "cell_type": "code",
   "execution_count": 99,
   "id": "20ebd310",
   "metadata": {},
   "outputs": [
    {
     "data": {
      "image/png": "[encoded data removed]",
      "text/plain": [
       "<Figure size 432x288 with 1 Axes>"
      ]
     },
     "metadata": {
      "needs_background": "light"
     },
     "output_type": "display_data"
    }
   ],
   "source": [
    "plt.scatter(my_data['radius_mean'],my_data['texture_mean'],c=label,s=2)\n",
    "plt.show()"
   ]
  },
  {
   "cell_type": "code",
   "execution_count": 100,
   "id": "37a089d3",
   "metadata": {},
   "outputs": [],
   "source": [
    "import math\n",
    "def sigmoid(z):\n",
    "    sig=1/(1+math.exp(-z))\n",
    "    return sig"
   ]
  },
  {
   "cell_type": "code",
   "execution_count": 101,
   "id": "1e201755",
   "metadata": {},
   "outputs": [
    {
     "data": {
      "text/plain": [
       "0.0"
      ]
     },
     "execution_count": 101,
     "metadata": {},
     "output_type": "execute_result"
    }
   ],
   "source": [
    "teta=np.array([.1,.1,.1])\n",
    "\n",
    "y[102]"
   ]
  },
  {
   "cell_type": "code",
   "execution_count": 102,
   "id": "e87136f6",
   "metadata": {},
   "outputs": [
    {
     "data": {
      "text/plain": [
       "2.9370000000000003"
      ]
     },
     "execution_count": 102,
     "metadata": {},
     "output_type": "execute_result"
    }
   ],
   "source": [
    "x=my_data.loc[0:99,'radius_mean':'texture_mean'].values\n",
    "\n",
    "x=np.concatenate((np.ones((100,1)),x),axis=1)\n",
    "np.matmul(teta.T,x[0])\n"
   ]
  },
  {
   "cell_type": "code",
   "execution_count": 103,
   "id": "d4554b45",
   "metadata": {},
   "outputs": [],
   "source": [
    "def cost(x,y,teta):\n",
    "    m=len(y)\n",
    "    cost_value=0\n",
    "    for i in range(m):\n",
    "        h_teta=sigmoid(np.matmul(teta.T,x[i]))\n",
    "        cost_iter=y[i]*(np.log(h_teta))+(1-y[i])*((np.log(1-h_teta)))\n",
    "        cost_value=cost_value+ cost_iter\n",
    "    return (-1/m)*cost_value"
   ]
  },
  {
   "cell_type": "code",
   "execution_count": 104,
   "id": "2d5e76c4",
   "metadata": {},
   "outputs": [
    {
     "data": {
      "text/plain": [
       "1.0804582400877487"
      ]
     },
     "execution_count": 104,
     "metadata": {},
     "output_type": "execute_result"
    }
   ],
   "source": [
    "cost(x,y[0:100],teta)\n"
   ]
  },
  {
   "cell_type": "code",
   "execution_count": 105,
   "id": "2bb1862d",
   "metadata": {},
   "outputs": [],
   "source": [
    "def calculate_weight(x,y,teta,rate):\n",
    "    \n",
    "    m=len(y)\n",
    "    \n",
    "    sum_error1=np.zeros((1,3))\n",
    "   \n",
    "    for i in range(m):\n",
    "        h_teta=sigmoid(np.matmul(teta.T,x[i]))\n",
    "        sum_error1=sum_error1+((h_teta-y[i])*x[i])\n",
    "    return teta-rate*sum_error1\n"
   ]
  },
  {
   "cell_type": "code",
   "execution_count": 122,
   "id": "30f97c71",
   "metadata": {},
   "outputs": [
    {
     "data": {
      "text/plain": [
       "0.6029916326779412"
      ]
     },
     "execution_count": 122,
     "metadata": {},
     "output_type": "execute_result"
    }
   ],
   "source": [
    "cost(x,y[0:100],teta[0])"
   ]
  },
  {
   "cell_type": "code",
   "execution_count": 242,
   "id": "23d1eb29",
   "metadata": {},
   "outputs": [
    {
     "name": "stderr",
     "output_type": "stream",
     "text": [
      "C:\\Users\\daliriyan\\AppData\\Roaming\\Python\\Python35\\site-packages\\ipykernel_launcher.py:6: RuntimeWarning: divide by zero encountered in log\n",
      "  \n",
      "C:\\Users\\daliriyan\\AppData\\Roaming\\Python\\Python35\\site-packages\\ipykernel_launcher.py:6: RuntimeWarning: invalid value encountered in double_scalars\n",
      "  \n"
     ]
    }
   ],
   "source": [
    "for i in range(1000):\n",
    "    teta=calculate_weight(x,y[0:100],teta[0],rate=0.001)\n",
    "    cost(x,y[0:100],teta[0])"
   ]
  },
  {
   "cell_type": "code",
   "execution_count": 243,
   "id": "6fc1ce2d",
   "metadata": {},
   "outputs": [
    {
     "data": {
      "text/plain": [
       "array([[-13.80685063,   1.58457571,  -0.76060515]])"
      ]
     },
     "execution_count": 243,
     "metadata": {},
     "output_type": "execute_result"
    }
   ],
   "source": [
    "teta"
   ]
  },
  {
   "cell_type": "code",
   "execution_count": 238,
   "id": "b2857892",
   "metadata": {},
   "outputs": [
    {
     "data": {
      "text/plain": [
       "230.0649721434439"
      ]
     },
     "execution_count": 238,
     "metadata": {},
     "output_type": "execute_result"
    }
   ],
   "source": [
    " 4.11128866/0.01787012\n",
    "    "
   ]
  },
  {
   "cell_type": "code",
   "execution_count": 239,
   "id": "33eb23b2",
   "metadata": {},
   "outputs": [],
   "source": [
    "p=np.linspace(0,30,300)\n",
    "yyy=-17.88*p+230"
   ]
  },
  {
   "cell_type": "code",
   "execution_count": 240,
   "id": "d546092d",
   "metadata": {},
   "outputs": [
    {
     "data": {
      "text/plain": [
       "<matplotlib.collections.PathCollection at 0x24df79add8>"
      ]
     },
     "execution_count": 240,
     "metadata": {},
     "output_type": "execute_result"
    },
    {
     "data": {
      "image/png": "[encoded data removed]",
      "text/plain": [
       "<Figure size 432x288 with 1 Axes>"
      ]
     },
     "metadata": {
      "needs_background": "light"
     },
     "output_type": "display_data"
    }
   ],
   "source": [
    "plt.plot(p,yyy)\n",
    "\n",
    "plt.scatter(my_data['radius_mean'],my_data['texture_mean'],c=label,s=2)"
   ]
  }
 ],
 "metadata": {
  "kernelspec": {
   "display_name": "Python 3",
   "language": "python",
   "name": "python3"
  },
  "language_info": {
   "codemirror_mode": {
    "name": "ipython",
    "version": 3
   },
   "file_extension": ".py",
   "mimetype": "text/x-python",
   "name": "python",
   "nbconvert_exporter": "python",
   "pygments_lexer": "ipython3",
   "version": "3.5.1"
  }
 },
 "nbformat": 4,
 "nbformat_minor": 5
}
