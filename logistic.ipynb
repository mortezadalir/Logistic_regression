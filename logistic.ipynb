{
 "cells": [
  {
   "cell_type": "code",
   "execution_count": 103,
   "id": "a2e09052",
   "metadata": {},
   "outputs": [],
   "source": [
    "import numpy as np\n",
    "import pandas as pd\n",
    "import matplotlib.pyplot as plt"
   ]
  },
  {
   "cell_type": "code",
   "execution_count": 104,
   "id": "bc33b35b",
   "metadata": {},
   "outputs": [],
   "source": [
    "data=pd.read_csv(\"data.csv\")\n",
    "data.drop(['id','Unnamed: 32'],axis=1, inplace=True)"
   ]
  },
  {
   "cell_type": "code",
   "execution_count": 144,
   "id": "4c3f1a40",
   "metadata": {},
   "outputs": [],
   "source": [
    "my_data=data.loc[:,'diagnosis':'texture_mean']\n",
    "\n"
   ]
  },
  {
   "cell_type": "code",
   "execution_count": 149,
   "id": "3d0cb6fd",
   "metadata": {},
   "outputs": [],
   "source": [
    "label=[]\n",
    "y=np.array([])\n",
    "for i in range(len(my_data)):\n",
    "    if my_data.loc[i,'diagnosis']==\"M\":\n",
    "        label.append(\"red\")\n",
    "        y=np.append(y,1)\n",
    "    else:\n",
    "        label.append(\"blue\")\n",
    "        y=np.append(y,0)\n",
    "\n"
   ]
  },
  {
   "cell_type": "code",
   "execution_count": 170,
   "id": "8143d427",
   "metadata": {},
   "outputs": [
    {
     "data": {
      "image/png": "[encoded data removed]",
      "text/plain": [
       "<Figure size 432x288 with 1 Axes>"
      ]
     },
     "metadata": {
      "needs_background": "light"
     },
     "output_type": "display_data"
    }
   ],
   "source": [
    "plt.scatter(my_data['radius_mean'],my_data['texture_mean'],c=label,s=2)\n",
    "plt.show()"
   ]
  },
  {
   "cell_type": "code",
   "execution_count": 238,
   "id": "bde3eb77",
   "metadata": {},
   "outputs": [],
   "source": [
    "import math\n",
    "def sigmoid(z):\n",
    "    sig=1/(1+math.exp(-z))\n",
    "    return sig"
   ]
  },
  {
   "cell_type": "code",
   "execution_count": 258,
   "id": "99e5ad6a",
   "metadata": {},
   "outputs": [
    {
     "data": {
      "text/plain": [
       "0.0"
      ]
     },
     "execution_count": 258,
     "metadata": {},
     "output_type": "execute_result"
    }
   ],
   "source": [
    "teta=np.array([.1,.1,.1])\n",
    "\n",
    "y[102]"
   ]
  },
  {
   "cell_type": "code",
   "execution_count": 259,
   "id": "94da2583",
   "metadata": {},
   "outputs": [
    {
     "data": {
      "text/plain": [
       "2.9370000000000003"
      ]
     },
     "execution_count": 259,
     "metadata": {},
     "output_type": "execute_result"
    }
   ],
   "source": [
    "x=my_data.loc[0:99,'radius_mean':'texture_mean'].values\n",
    "\n",
    "x=np.concatenate((np.ones((100,1)),x),axis=1)\n",
    "np.matmul(teta.T,x[0])\n"
   ]
  },
  {
   "cell_type": "code",
   "execution_count": 297,
   "id": "c08861dd",
   "metadata": {},
   "outputs": [],
   "source": [
    "def cost(x,y,teta):\n",
    "    m=len(y)\n",
    "    cost_value=0\n",
    "    for i in range(m):\n",
    "        h_teta=sigmoid(np.matmul(teta.T,x[i]))\n",
    "        print(np.log(h_teta))\n",
    "        cost_iter=y[i]*(np.log(h_teta))+(1-y[i])*(1-(np.log(h_teta)))\n",
    "        print(cost_iter)\n",
    "        cost_value=cost_value+ cost_iter\n",
    "    return cost_value"
   ]
  },
  {
   "cell_type": "code",
   "execution_count": 298,
   "id": "a5b88251",
   "metadata": {},
   "outputs": [
    {
     "name": "stdout",
     "output_type": "stream",
     "text": [
      "-0.051666560570558365\n",
      "-0.051666560570558365\n",
      "-0.019376315656824055\n",
      "-0.019376315656824055\n",
      "-0.014973161374994213\n",
      "-0.014973161374994213\n",
      "-0.036937586501232814\n",
      "-0.036937586501232814\n",
      "-0.0279591118527306\n",
      "-0.0279591118527306\n",
      "-0.05278600921554562\n",
      "-0.05278600921554562\n",
      "-0.01958854620191375\n",
      "-0.01958854620191375\n",
      "-0.028208347668347875\n",
      "-0.028208347668347875\n",
      "-0.027440056928732037\n",
      "-0.027440056928732037\n",
      "-0.02324546437242505\n",
      "-0.02324546437242505\n",
      "-0.01768820687409685\n",
      "-0.01768820687409685\n",
      "-0.03073337615926186\n",
      "-0.03073337615926186\n",
      "-0.011080754622377264\n",
      "-0.011080754622377264\n",
      "-0.0167661253680087\n",
      "-0.0167661253680087\n",
      "-0.02361599048988235\n",
      "-0.02361599048988235\n",
      "-0.013370656625259715\n",
      "-0.013370656625259715\n",
      "-0.02746713709867483\n",
      "-0.02746713709867483\n",
      "-0.022543847247960404\n",
      "-0.022543847247960404\n",
      "-0.013530983886243233\n",
      "-0.013530983886243233\n",
      "-0.05408679092124662\n",
      "1.0540867909212466\n",
      "-0.049593319747576574\n",
      "1.0495933197475766\n",
      "-0.09605705377445999\n",
      "1.09605705377446\n",
      "-0.045821662735067756\n",
      "-0.045821662735067756\n",
      "-0.01083016513945715\n",
      "-0.01083016513945715\n",
      "-0.01998033376922177\n",
      "-0.01998033376922177\n",
      "-0.031129323142633513\n",
      "-0.031129323142633513\n",
      "-0.02415886820643464\n",
      "-0.02415886820643464\n",
      "-0.018403473614992515\n",
      "-0.018403473614992515\n",
      "-0.015533183922837996\n",
      "-0.015533183922837996\n",
      "-0.03407853193645814\n",
      "-0.03407853193645814\n",
      "-0.011337109468326884\n",
      "-0.011337109468326884\n",
      "-0.0417953389579857\n",
      "-0.0417953389579857\n",
      "-0.01488425467191814\n",
      "-0.01488425467191814\n",
      "-0.009291554825886323\n",
      "-0.009291554825886323\n",
      "-0.02972112026391798\n",
      "-0.02972112026391798\n",
      "-0.01939551487206574\n",
      "-0.01939551487206574\n",
      "-0.02449533305102706\n",
      "-0.02449533305102706\n",
      "-0.03822845598785297\n",
      "1.038228455987853\n",
      "-0.016129976737762054\n",
      "-0.016129976737762054\n",
      "-0.02888373547119835\n",
      "-0.02888373547119835\n",
      "-0.026903950767572744\n",
      "-0.026903950767572744\n",
      "-0.03516741836033467\n",
      "-0.03516741836033467\n",
      "-0.011180373598203982\n",
      "-0.011180373598203982\n",
      "-0.0310680829373431\n",
      "-0.0310680829373431\n",
      "-0.027010338807246712\n",
      "-0.027010338807246712\n",
      "-0.023826970153767512\n",
      "-0.023826970153767512\n",
      "-0.0713962102652394\n",
      "1.0713962102652395\n",
      "-0.03682895247530607\n",
      "-0.03682895247530607\n",
      "-0.060895130316758875\n",
      "1.0608951303167589\n",
      "-0.024934739788147017\n",
      "1.024934739788147\n",
      "-0.03168585974026697\n",
      "1.031685859740267\n",
      "-0.04415026499677282\n",
      "1.0441502649967729\n",
      "-0.04329468318890664\n",
      "1.0432946831889067\n",
      "-0.02229995325136503\n",
      "-0.02229995325136503\n",
      "-0.021863176304191483\n",
      "-0.021863176304191483\n",
      "-0.04291498435674889\n",
      "1.042914984356749\n",
      "-0.0204809933904073\n",
      "-0.0204809933904073\n",
      "-0.02370953033962844\n",
      "-0.02370953033962844\n",
      "-0.03496068037977802\n",
      "1.034960680379778\n",
      "-0.11114841451704659\n",
      "1.1111484145170465\n",
      "-0.0712998031903247\n",
      "1.0712998031903247\n",
      "-0.0459202992828016\n",
      "1.0459202992828016\n",
      "-0.023476364119777163\n",
      "-0.023476364119777163\n",
      "-0.08656209708343943\n",
      "1.0865620970834393\n",
      "-0.02319955450288162\n",
      "-0.02319955450288162\n",
      "-0.01866052828127566\n",
      "-0.01866052828127566\n",
      "-0.04206224065737358\n",
      "1.0420622406573736\n",
      "-0.042580211626420394\n",
      "1.0425802116264204\n",
      "-0.06282044806833688\n",
      "1.062820448068337\n",
      "-0.04732318647257265\n",
      "1.0473231864725727\n",
      "-0.01603425608031871\n",
      "-0.01603425608031871\n",
      "-0.08254938095291814\n",
      "1.082549380952918\n",
      "-0.01385738887866836\n",
      "-0.01385738887866836\n",
      "-0.045866471835493056\n",
      "-0.045866471835493056\n",
      "-0.04940015304329919\n",
      "1.0494001530432993\n",
      "-0.02510771464386106\n",
      "-0.02510771464386106\n",
      "-0.07540080860453596\n",
      "1.075400808604536\n",
      "-0.02916982870589597\n",
      "-0.02916982870589597\n",
      "-0.010884157203402696\n",
      "-0.010884157203402696\n",
      "-0.040505357103820666\n",
      "1.0405053571038207\n",
      "-0.03475513674668479\n",
      "1.0347551367466847\n",
      "-0.04764781513907814\n",
      "1.0476478151390782\n",
      "-0.005999965960843397\n",
      "-0.005999965960843397\n",
      "-0.009620930226167779\n",
      "-0.009620930226167779\n",
      "-0.05541874756683841\n",
      "1.0554187475668384\n",
      "-0.0221680218290134\n",
      "-0.0221680218290134\n",
      "-0.024568032678442295\n",
      "-0.024568032678442295\n",
      "-0.01148460543336673\n",
      "-0.01148460543336673\n",
      "-0.029285046346719818\n",
      "1.0292850463467198\n",
      "-0.04458423580964352\n",
      "1.0445842358096435\n",
      "-0.01880901042653266\n",
      "1.0188090104265326\n",
      "-0.019783479711531674\n",
      "-0.019783479711531674\n",
      "-0.053406537780657556\n",
      "1.0534065377806576\n",
      "-0.03711934261735651\n",
      "1.0371193426173566\n",
      "-0.027251231708996407\n",
      "-0.027251231708996407\n",
      "-0.011855850950191083\n",
      "-0.011855850950191083\n",
      "-0.04397783587649436\n",
      "1.0439778358764944\n",
      "-0.04525629577889414\n",
      "1.0452562957788942\n",
      "-0.07561899681432116\n",
      "1.0756189968143213\n",
      "-0.0291985911672195\n",
      "-0.0291985911672195\n"
     ]
    },
    {
     "data": {
      "text/plain": [
       "35.312275141164896"
      ]
     },
     "execution_count": 298,
     "metadata": {},
     "output_type": "execute_result"
    }
   ],
   "source": [
    "cost(x,y[0:100],teta)\n"
   ]
  },
  {
   "cell_type": "code",
   "execution_count": 300,
   "id": "7e3e57e7",
   "metadata": {},
   "outputs": [
    {
     "name": "stdout",
     "output_type": "stream",
     "text": [
      "-0.04525629577889414\n",
      "1.0452562957788942\n"
     ]
    },
    {
     "data": {
      "text/plain": [
       "1.0452562957788942"
      ]
     },
     "execution_count": 300,
     "metadata": {},
     "output_type": "execute_result"
    }
   ],
   "source": [
    "cost(x[97],y[97],teta)"
   ]
  },
  {
   "cell_type": "code",
   "execution_count": 299,
   "id": "c2b3be27",
   "metadata": {},
   "outputs": [],
   "source": [
    "def cost(x,y,teta):\n",
    "    cost_value=0\n",
    "    h_teta=sigmoid(np.matmul(teta.T,x))\n",
    "    print(np.log(h_teta))\n",
    "    cost_iter=y*(np.log(h_teta))+(1-y)*(1-(np.log(h_teta)))\n",
    "    print(cost_iter)\n",
    "    cost_value=cost_value+ cost_iter\n",
    "    return cost_value"
   ]
  },
  {
   "cell_type": "code",
   "execution_count": 301,
   "id": "d2cfabf2",
   "metadata": {},
   "outputs": [
    {
     "data": {
      "text/plain": [
       "0.0"
      ]
     },
     "execution_count": 301,
     "metadata": {},
     "output_type": "execute_result"
    }
   ],
   "source": [
    "y[97]"
   ]
  }
 ],
 "metadata": {
  "kernelspec": {
   "display_name": "Python 3",
   "language": "python",
   "name": "python3"
  },
  "language_info": {
   "codemirror_mode": {
    "name": "ipython",
    "version": 3
   },
   "file_extension": ".py",
   "mimetype": "text/x-python",
   "name": "python",
   "nbconvert_exporter": "python",
   "pygments_lexer": "ipython3",
   "version": "3.5.1"
  }
 },
 "nbformat": 4,
 "nbformat_minor": 5
}
