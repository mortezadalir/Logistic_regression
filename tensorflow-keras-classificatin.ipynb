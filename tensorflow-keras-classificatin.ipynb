{
 "cells": [
  {
   "cell_type": "code",
   "execution_count": 110,
   "id": "850ddd9f",
   "metadata": {},
   "outputs": [],
   "source": [
    "import numpy as np\n",
    "import pandas as pd\n",
    "import matplotlib.pyplot as plt\n",
    "from sklearn.model_selection import train_test_split\n",
    "from sklearn.preprocessing import MinMaxScaler"
   ]
  },
  {
   "cell_type": "code",
   "execution_count": 111,
   "id": "29cae7e5",
   "metadata": {},
   "outputs": [
    {
     "data": {
      "text/html": [
       "<div>\n",
       "<style scoped>\n",
       "    .dataframe tbody tr th:only-of-type {\n",
       "        vertical-align: middle;\n",
       "    }\n",
       "\n",
       "    .dataframe tbody tr th {\n",
       "        vertical-align: top;\n",
       "    }\n",
       "\n",
       "    .dataframe thead th {\n",
       "        text-align: right;\n",
       "    }\n",
       "</style>\n",
       "<table border=\"1\" class=\"dataframe\">\n",
       "  <thead>\n",
       "    <tr style=\"text-align: right;\">\n",
       "      <th></th>\n",
       "      <th>diagnosis</th>\n",
       "      <th>radius_mean</th>\n",
       "      <th>texture_mean</th>\n",
       "      <th>perimeter_mean</th>\n",
       "      <th>area_mean</th>\n",
       "      <th>smoothness_mean</th>\n",
       "      <th>compactness_mean</th>\n",
       "      <th>concavity_mean</th>\n",
       "      <th>concave points_mean</th>\n",
       "      <th>symmetry_mean</th>\n",
       "      <th>...</th>\n",
       "      <th>radius_worst</th>\n",
       "      <th>texture_worst</th>\n",
       "      <th>perimeter_worst</th>\n",
       "      <th>area_worst</th>\n",
       "      <th>smoothness_worst</th>\n",
       "      <th>compactness_worst</th>\n",
       "      <th>concavity_worst</th>\n",
       "      <th>concave points_worst</th>\n",
       "      <th>symmetry_worst</th>\n",
       "      <th>fractal_dimension_worst</th>\n",
       "    </tr>\n",
       "  </thead>\n",
       "  <tbody>\n",
       "    <tr>\n",
       "      <th>0</th>\n",
       "      <td>M</td>\n",
       "      <td>17.99</td>\n",
       "      <td>10.38</td>\n",
       "      <td>122.80</td>\n",
       "      <td>1001.0</td>\n",
       "      <td>0.11840</td>\n",
       "      <td>0.27760</td>\n",
       "      <td>0.3001</td>\n",
       "      <td>0.14710</td>\n",
       "      <td>0.2419</td>\n",
       "      <td>...</td>\n",
       "      <td>25.38</td>\n",
       "      <td>17.33</td>\n",
       "      <td>184.60</td>\n",
       "      <td>2019.0</td>\n",
       "      <td>0.1622</td>\n",
       "      <td>0.6656</td>\n",
       "      <td>0.7119</td>\n",
       "      <td>0.2654</td>\n",
       "      <td>0.4601</td>\n",
       "      <td>0.11890</td>\n",
       "    </tr>\n",
       "    <tr>\n",
       "      <th>1</th>\n",
       "      <td>M</td>\n",
       "      <td>20.57</td>\n",
       "      <td>17.77</td>\n",
       "      <td>132.90</td>\n",
       "      <td>1326.0</td>\n",
       "      <td>0.08474</td>\n",
       "      <td>0.07864</td>\n",
       "      <td>0.0869</td>\n",
       "      <td>0.07017</td>\n",
       "      <td>0.1812</td>\n",
       "      <td>...</td>\n",
       "      <td>24.99</td>\n",
       "      <td>23.41</td>\n",
       "      <td>158.80</td>\n",
       "      <td>1956.0</td>\n",
       "      <td>0.1238</td>\n",
       "      <td>0.1866</td>\n",
       "      <td>0.2416</td>\n",
       "      <td>0.1860</td>\n",
       "      <td>0.2750</td>\n",
       "      <td>0.08902</td>\n",
       "    </tr>\n",
       "    <tr>\n",
       "      <th>2</th>\n",
       "      <td>M</td>\n",
       "      <td>19.69</td>\n",
       "      <td>21.25</td>\n",
       "      <td>130.00</td>\n",
       "      <td>1203.0</td>\n",
       "      <td>0.10960</td>\n",
       "      <td>0.15990</td>\n",
       "      <td>0.1974</td>\n",
       "      <td>0.12790</td>\n",
       "      <td>0.2069</td>\n",
       "      <td>...</td>\n",
       "      <td>23.57</td>\n",
       "      <td>25.53</td>\n",
       "      <td>152.50</td>\n",
       "      <td>1709.0</td>\n",
       "      <td>0.1444</td>\n",
       "      <td>0.4245</td>\n",
       "      <td>0.4504</td>\n",
       "      <td>0.2430</td>\n",
       "      <td>0.3613</td>\n",
       "      <td>0.08758</td>\n",
       "    </tr>\n",
       "    <tr>\n",
       "      <th>3</th>\n",
       "      <td>M</td>\n",
       "      <td>11.42</td>\n",
       "      <td>20.38</td>\n",
       "      <td>77.58</td>\n",
       "      <td>386.1</td>\n",
       "      <td>0.14250</td>\n",
       "      <td>0.28390</td>\n",
       "      <td>0.2414</td>\n",
       "      <td>0.10520</td>\n",
       "      <td>0.2597</td>\n",
       "      <td>...</td>\n",
       "      <td>14.91</td>\n",
       "      <td>26.50</td>\n",
       "      <td>98.87</td>\n",
       "      <td>567.7</td>\n",
       "      <td>0.2098</td>\n",
       "      <td>0.8663</td>\n",
       "      <td>0.6869</td>\n",
       "      <td>0.2575</td>\n",
       "      <td>0.6638</td>\n",
       "      <td>0.17300</td>\n",
       "    </tr>\n",
       "    <tr>\n",
       "      <th>4</th>\n",
       "      <td>M</td>\n",
       "      <td>20.29</td>\n",
       "      <td>14.34</td>\n",
       "      <td>135.10</td>\n",
       "      <td>1297.0</td>\n",
       "      <td>0.10030</td>\n",
       "      <td>0.13280</td>\n",
       "      <td>0.1980</td>\n",
       "      <td>0.10430</td>\n",
       "      <td>0.1809</td>\n",
       "      <td>...</td>\n",
       "      <td>22.54</td>\n",
       "      <td>16.67</td>\n",
       "      <td>152.20</td>\n",
       "      <td>1575.0</td>\n",
       "      <td>0.1374</td>\n",
       "      <td>0.2050</td>\n",
       "      <td>0.4000</td>\n",
       "      <td>0.1625</td>\n",
       "      <td>0.2364</td>\n",
       "      <td>0.07678</td>\n",
       "    </tr>\n",
       "  </tbody>\n",
       "</table>\n",
       "<p>5 rows × 31 columns</p>\n",
       "</div>"
      ],
      "text/plain": [
       "  diagnosis  radius_mean  texture_mean  perimeter_mean  area_mean  \\\n",
       "0         M        17.99         10.38          122.80     1001.0   \n",
       "1         M        20.57         17.77          132.90     1326.0   \n",
       "2         M        19.69         21.25          130.00     1203.0   \n",
       "3         M        11.42         20.38           77.58      386.1   \n",
       "4         M        20.29         14.34          135.10     1297.0   \n",
       "\n",
       "   smoothness_mean  compactness_mean  concavity_mean  concave points_mean  \\\n",
       "0          0.11840           0.27760          0.3001              0.14710   \n",
       "1          0.08474           0.07864          0.0869              0.07017   \n",
       "2          0.10960           0.15990          0.1974              0.12790   \n",
       "3          0.14250           0.28390          0.2414              0.10520   \n",
       "4          0.10030           0.13280          0.1980              0.10430   \n",
       "\n",
       "   symmetry_mean  ...  radius_worst  texture_worst  perimeter_worst  \\\n",
       "0         0.2419  ...         25.38          17.33           184.60   \n",
       "1         0.1812  ...         24.99          23.41           158.80   \n",
       "2         0.2069  ...         23.57          25.53           152.50   \n",
       "3         0.2597  ...         14.91          26.50            98.87   \n",
       "4         0.1809  ...         22.54          16.67           152.20   \n",
       "\n",
       "   area_worst  smoothness_worst  compactness_worst  concavity_worst  \\\n",
       "0      2019.0            0.1622             0.6656           0.7119   \n",
       "1      1956.0            0.1238             0.1866           0.2416   \n",
       "2      1709.0            0.1444             0.4245           0.4504   \n",
       "3       567.7            0.2098             0.8663           0.6869   \n",
       "4      1575.0            0.1374             0.2050           0.4000   \n",
       "\n",
       "   concave points_worst  symmetry_worst  fractal_dimension_worst  \n",
       "0                0.2654          0.4601                  0.11890  \n",
       "1                0.1860          0.2750                  0.08902  \n",
       "2                0.2430          0.3613                  0.08758  \n",
       "3                0.2575          0.6638                  0.17300  \n",
       "4                0.1625          0.2364                  0.07678  \n",
       "\n",
       "[5 rows x 31 columns]"
      ]
     },
     "execution_count": 111,
     "metadata": {},
     "output_type": "execute_result"
    }
   ],
   "source": [
    "data=pd.read_csv(\"data.csv\")\n",
    "data.drop(['id','Unnamed: 32'],axis=1, inplace=True)\n",
    "data.head()"
   ]
  },
  {
   "cell_type": "code",
   "execution_count": 112,
   "id": "d7361729",
   "metadata": {},
   "outputs": [],
   "source": [
    "my_data=data.loc[:,'radius_mean':'fractal_dimension_worst']\n",
    "Y_data=data.loc[:,'diagnosis']\n",
    "x_data=(my_data-np.min(my_data))/(np.max(my_data)-np.min(my_data)).values\n",
    "\n"
   ]
  },
  {
   "cell_type": "code",
   "execution_count": 113,
   "id": "18a678a7",
   "metadata": {},
   "outputs": [],
   "source": [
    "label=[]\n",
    "Y=np.array([],dtype=int)\n",
    "for i in range(len(Y_data)):\n",
    "    if Y_data.loc[i]==\"M\":\n",
    "        Y=np.append(Y,1)\n",
    "    else:\n",
    "        Y=np.append(Y,0)\n"
   ]
  },
  {
   "cell_type": "code",
   "execution_count": 114,
   "id": "9648f994",
   "metadata": {},
   "outputs": [],
   "source": [
    "X_train, X_test, y_train, y_test = train_test_split( x_data, Y, test_size=.3, random_state=42)\n",
    "label=[]\n",
    "\n",
    "for i in range(len(y_train)):\n",
    "    if y_train[i]==1:\n",
    "        label.append(\"red\")\n",
    "        \n",
    "    else:\n",
    "        label.append(\"blue\")\n",
    "        \n"
   ]
  },
  {
   "cell_type": "code",
   "execution_count": null,
   "id": "9351518c",
   "metadata": {},
   "outputs": [],
   "source": []
  },
  {
   "cell_type": "code",
   "execution_count": 115,
   "id": "45740b3a",
   "metadata": {},
   "outputs": [],
   "source": []
  },
  {
   "cell_type": "code",
   "execution_count": 116,
   "id": "5e63d066",
   "metadata": {},
   "outputs": [],
   "source": [
    "data_scaler=MinMaxScaler()"
   ]
  },
  {
   "cell_type": "code",
   "execution_count": 117,
   "id": "63e6712a",
   "metadata": {},
   "outputs": [],
   "source": [
    "scaled_x_train=data_scaler.fit_transform(X_train)"
   ]
  },
  {
   "cell_type": "code",
   "execution_count": 118,
   "id": "e3803023",
   "metadata": {},
   "outputs": [],
   "source": [
    "scaled_x_test=data_scaler.transform(X_test)"
   ]
  },
  {
   "cell_type": "code",
   "execution_count": 119,
   "id": "82591a4b",
   "metadata": {},
   "outputs": [],
   "source": [
    "import tensorflow as tf"
   ]
  },
  {
   "cell_type": "code",
   "execution_count": 120,
   "id": "a8ada63a",
   "metadata": {},
   "outputs": [],
   "source": [
    "from tensorflow.contrib.keras import models"
   ]
  },
  {
   "cell_type": "code",
   "execution_count": 121,
   "id": "111e6735",
   "metadata": {},
   "outputs": [],
   "source": [
    "dnn_model = models.Sequential()"
   ]
  },
  {
   "cell_type": "code",
   "execution_count": 122,
   "id": "15201f33",
   "metadata": {},
   "outputs": [],
   "source": [
    "from tensorflow.contrib.keras import layers\n"
   ]
  },
  {
   "cell_type": "code",
   "execution_count": null,
   "id": "385e1b33",
   "metadata": {},
   "outputs": [],
   "source": []
  },
  {
   "cell_type": "code",
   "execution_count": null,
   "id": "0f1041c0",
   "metadata": {},
   "outputs": [],
   "source": []
  },
  {
   "cell_type": "code",
   "execution_count": null,
   "id": "14ac87c5",
   "metadata": {},
   "outputs": [],
   "source": []
  },
  {
   "cell_type": "code",
   "execution_count": 123,
   "id": "ed9c3ce1",
   "metadata": {},
   "outputs": [],
   "source": [
    "dnn_model.add(layers.Dense(units=30,input_dim=30,\n",
    "                                activation='sigmoid'))"
   ]
  },
  {
   "cell_type": "code",
   "execution_count": 124,
   "id": "744f546a",
   "metadata": {},
   "outputs": [],
   "source": [
    "dnn_model.add(layers.Dense(units=60,activation='sigmoid'))\n",
    "dnn_model.add(layers.Dense(units=120,activation='sigmoid'))\n",
    "dnn_model.add(layers.Dense(units=240,activation='sigmoid'))"
   ]
  },
  {
   "cell_type": "code",
   "execution_count": 125,
   "id": "9ab60bd3",
   "metadata": {},
   "outputs": [],
   "source": [
    "dnn_model.add(layers.Dense(units=240,activation='softmax'))\n"
   ]
  },
  {
   "cell_type": "code",
   "execution_count": 126,
   "id": "c8a5a7a3",
   "metadata": {},
   "outputs": [
    {
     "data": {
      "text/plain": [
       "<function tensorflow.contrib.keras.python.keras.losses.categorical_crossentropy(y_true, y_pred)>"
      ]
     },
     "execution_count": 126,
     "metadata": {},
     "output_type": "execute_result"
    }
   ],
   "source": [
    "from tensorflow.contrib.keras import losses,optimizers,metrics,activations\n",
    "losses.categorical_crossentropy"
   ]
  },
  {
   "cell_type": "code",
   "execution_count": 127,
   "id": "0e490119",
   "metadata": {},
   "outputs": [],
   "source": [
    "dnn_model.compile(optimizer='adam',\n",
    "                       loss='sparse_categorical_crossentropy',\n",
    "                       metrics=['accuracy'])"
   ]
  },
  {
   "cell_type": "code",
   "execution_count": 128,
   "id": "5ddfcb46",
   "metadata": {},
   "outputs": [],
   "source": [
    "x_tr=np.array(scaled_x_train)\n",
    "y_tr=np.array(y_train)"
   ]
  },
  {
   "cell_type": "code",
   "execution_count": 129,
   "id": "4021dad5",
   "metadata": {},
   "outputs": [
    {
     "name": "stdout",
     "output_type": "stream",
     "text": [
      "Epoch 1/50\n",
      "398/398 [==============================] - 0s - loss: 3.3471 - acc: 0.5302        \n",
      "Epoch 2/50\n",
      "398/398 [==============================] - 0s - loss: 0.9539 - acc: 0.6256     \n",
      "Epoch 3/50\n",
      "398/398 [==============================] - 0s - loss: 0.6954 - acc: 0.6256     \n",
      "Epoch 4/50\n",
      "398/398 [==============================] - 0s - loss: 0.6805 - acc: 0.6256     \n",
      "Epoch 5/50\n",
      "398/398 [==============================] - 0s - loss: 0.6715 - acc: 0.6256     \n",
      "Epoch 6/50\n",
      "398/398 [==============================] - 0s - loss: 0.6670 - acc: 0.6256     \n",
      "Epoch 7/50\n",
      "398/398 [==============================] - 0s - loss: 0.6685 - acc: 0.6256     \n",
      "Epoch 8/50\n",
      "398/398 [==============================] - 0s - loss: 0.6689 - acc: 0.6256     \n",
      "Epoch 9/50\n",
      "398/398 [==============================] - 0s - loss: 0.6711 - acc: 0.6256     \n",
      "Epoch 10/50\n",
      "398/398 [==============================] - 0s - loss: 0.6671 - acc: 0.6256     \n",
      "Epoch 11/50\n",
      "398/398 [==============================] - 0s - loss: 0.6654 - acc: 0.6256     \n",
      "Epoch 12/50\n",
      "398/398 [==============================] - 0s - loss: 0.6690 - acc: 0.6256     \n",
      "Epoch 13/50\n",
      "398/398 [==============================] - 0s - loss: 0.6664 - acc: 0.6256     \n",
      "Epoch 14/50\n",
      "398/398 [==============================] - 0s - loss: 0.6642 - acc: 0.6256     \n",
      "Epoch 15/50\n",
      "398/398 [==============================] - 0s - loss: 0.6617 - acc: 0.6256     \n",
      "Epoch 16/50\n",
      "398/398 [==============================] - 0s - loss: 0.6618 - acc: 0.6256     \n",
      "Epoch 17/50\n",
      "398/398 [==============================] - 0s - loss: 0.6551 - acc: 0.6256     \n",
      "Epoch 18/50\n",
      "398/398 [==============================] - 0s - loss: 0.6530 - acc: 0.6256     \n",
      "Epoch 19/50\n",
      "398/398 [==============================] - 0s - loss: 0.6523 - acc: 0.6256     \n",
      "Epoch 20/50\n",
      "398/398 [==============================] - 0s - loss: 0.6363 - acc: 0.6256     \n",
      "Epoch 21/50\n",
      "398/398 [==============================] - 0s - loss: 0.6154 - acc: 0.6256     \n",
      "Epoch 22/50\n",
      "398/398 [==============================] - 0s - loss: 0.5844 - acc: 0.6307     \n",
      "Epoch 23/50\n",
      "398/398 [==============================] - 0s - loss: 0.5224 - acc: 0.7588     \n",
      "Epoch 24/50\n",
      "398/398 [==============================] - 0s - loss: 0.4275 - acc: 0.8995     \n",
      "Epoch 25/50\n",
      "398/398 [==============================] - 0s - loss: 0.3204 - acc: 0.9422     \n",
      "Epoch 26/50\n",
      "398/398 [==============================] - 0s - loss: 0.2353 - acc: 0.9296     \n",
      "Epoch 27/50\n",
      "398/398 [==============================] - 0s - loss: 0.1870 - acc: 0.9447     \n",
      "Epoch 28/50\n",
      "398/398 [==============================] - 0s - loss: 0.1643 - acc: 0.9497     \n",
      "Epoch 29/50\n",
      "398/398 [==============================] - 0s - loss: 0.1508 - acc: 0.9422     \n",
      "Epoch 30/50\n",
      "398/398 [==============================] - 0s - loss: 0.1426 - acc: 0.9472     \n",
      "Epoch 31/50\n",
      "398/398 [==============================] - 0s - loss: 0.1381 - acc: 0.9497     \n",
      "Epoch 32/50\n",
      "398/398 [==============================] - 0s - loss: 0.1402 - acc: 0.9497     \n",
      "Epoch 33/50\n",
      "398/398 [==============================] - 0s - loss: 0.1286 - acc: 0.9623     \n",
      "Epoch 34/50\n",
      "398/398 [==============================] - 0s - loss: 0.1248 - acc: 0.9497     \n",
      "Epoch 35/50\n",
      "398/398 [==============================] - 0s - loss: 0.1233 - acc: 0.9523     \n",
      "Epoch 36/50\n",
      "398/398 [==============================] - 0s - loss: 0.1174 - acc: 0.9623     \n",
      "Epoch 37/50\n",
      "398/398 [==============================] - ETA: 0s - loss: 0.0908 - acc: 0.975 - 0s - loss: 0.1142 - acc: 0.9673     \n",
      "Epoch 38/50\n",
      "398/398 [==============================] - 0s - loss: 0.1144 - acc: 0.9573     \n",
      "Epoch 39/50\n",
      "398/398 [==============================] - 0s - loss: 0.1199 - acc: 0.9523     \n",
      "Epoch 40/50\n",
      "398/398 [==============================] - 0s - loss: 0.1065 - acc: 0.9648     \n",
      "Epoch 41/50\n",
      "398/398 [==============================] - 0s - loss: 0.1061 - acc: 0.9598     \n",
      "Epoch 42/50\n",
      "398/398 [==============================] - 0s - loss: 0.1006 - acc: 0.9698     \n",
      "Epoch 43/50\n",
      "398/398 [==============================] - ETA: 0s - loss: 0.1100 - acc: 0.972 - 0s - loss: 0.0997 - acc: 0.9724     \n",
      "Epoch 44/50\n",
      "398/398 [==============================] - 0s - loss: 0.0985 - acc: 0.9698     \n",
      "Epoch 45/50\n",
      "398/398 [==============================] - 0s - loss: 0.0952 - acc: 0.9724     \n",
      "Epoch 46/50\n",
      "398/398 [==============================] - 0s - loss: 0.0927 - acc: 0.9749     \n",
      "Epoch 47/50\n",
      "398/398 [==============================] - 0s - loss: 0.0921 - acc: 0.9749     \n",
      "Epoch 48/50\n",
      "398/398 [==============================] - 0s - loss: 0.0901 - acc: 0.9648     \n",
      "Epoch 49/50\n",
      "398/398 [==============================] - 0s - loss: 0.0885 - acc: 0.9749     \n",
      "Epoch 50/50\n",
      "398/398 [==============================] - 0s - loss: 0.0911 - acc: 0.9673     \n"
     ]
    },
    {
     "data": {
      "text/plain": [
       "<tensorflow.contrib.keras.python.keras.callbacks.History at 0x2b17fce10>"
      ]
     },
     "execution_count": 129,
     "metadata": {},
     "output_type": "execute_result"
    }
   ],
   "source": [
    "dnn_model.fit(x_tr,y_tr,epochs=50)"
   ]
  },
  {
   "cell_type": "code",
   "execution_count": 130,
   "id": "259c8c90",
   "metadata": {},
   "outputs": [
    {
     "name": "stdout",
     "output_type": "stream",
     "text": [
      "\r",
      " 32/171 [====>.........................] - ETA: 0s"
     ]
    }
   ],
   "source": [
    "preds=dnn_model.predict_classes(scaled_x_test)"
   ]
  },
  {
   "cell_type": "code",
   "execution_count": 131,
   "id": "dbc353c3",
   "metadata": {},
   "outputs": [],
   "source": [
    "from sklearn.metrics import classification_report"
   ]
  },
  {
   "cell_type": "code",
   "execution_count": 134,
   "id": "6652a104",
   "metadata": {},
   "outputs": [
    {
     "name": "stdout",
     "output_type": "stream",
     "text": [
      "              precision    recall  f1-score   support\n",
      "\n",
      "           0       1.00      0.98      0.99       110\n",
      "           1       0.97      1.00      0.98        61\n",
      "\n",
      "    accuracy                           0.99       171\n",
      "   macro avg       0.98      0.99      0.99       171\n",
      "weighted avg       0.99      0.99      0.99       171\n",
      "\n"
     ]
    }
   ],
   "source": [
    "print(classification_report(preds,y_test))"
   ]
  },
  {
   "cell_type": "code",
   "execution_count": null,
   "id": "c0082797",
   "metadata": {},
   "outputs": [],
   "source": []
  },
  {
   "cell_type": "code",
   "execution_count": null,
   "id": "4e94d994",
   "metadata": {},
   "outputs": [],
   "source": []
  },
  {
   "cell_type": "code",
   "execution_count": null,
   "id": "c1b2bfe1",
   "metadata": {},
   "outputs": [],
   "source": []
  },
  {
   "cell_type": "code",
   "execution_count": null,
   "id": "54c87a12",
   "metadata": {},
   "outputs": [],
   "source": []
  },
  {
   "cell_type": "code",
   "execution_count": null,
   "id": "185cf188",
   "metadata": {},
   "outputs": [],
   "source": []
  }
 ],
 "metadata": {
  "kernelspec": {
   "display_name": "Python 3",
   "language": "python",
   "name": "python3"
  },
  "language_info": {
   "codemirror_mode": {
    "name": "ipython",
    "version": 3
   },
   "file_extension": ".py",
   "mimetype": "text/x-python",
   "name": "python",
   "nbconvert_exporter": "python",
   "pygments_lexer": "ipython3",
   "version": "3.5.1"
  }
 },
 "nbformat": 4,
 "nbformat_minor": 5
}
